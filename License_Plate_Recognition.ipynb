{
 "cells": [
  {
   "cell_type": "code",
   "execution_count": 65,
   "metadata": {},
   "outputs": [
    {
     "name": "stdout",
     "output_type": "stream",
     "text": [
      "C:/Users/JOY/Downloads/OpenCV_3_License_Plate_Recognition_Python-master/OpenCV_3_License_Plate_Recognition_Python-master/New folder/1.png\n",
      "C:/Users/JOY/Downloads/OpenCV_3_License_Plate_Recognition_Python-master/OpenCV_3_License_Plate_Recognition_Python-master/New folder/1.png\n",
      "C:/Users/JOY/Downloads/OpenCV_3_License_Plate_Recognition_Python-master/OpenCV_3_License_Plate_Recognition_Python-master/New folder/1.png\n"
     ]
    }
   ],
   "source": [
    "from tkinter import *\n",
    "from tkinter import filedialog\n",
    "root=Tk()\n",
    "root.geometry('500x500')\n",
    "root.resizable(width='false',height='false')\n",
    "root.title('                                    License Plate Number Recognizer')\n",
    "root.configure(bg='gray')\n",
    "\n",
    "def open_file():\n",
    "    root.filename=filedialog.askopenfilename()\n",
    "def submit_file():\n",
    "    print(root.filename)\n",
    "    answer.delete('1.0',END)\n",
    "    answer.insert('1.0','hi!')\n",
    "upl=Button(root,text='Select Image',width=70,command=lambda:open_file())\n",
    "upl.place(x=0,y=5)\n",
    "\n",
    "submit=Button(root,text='Extract Number',width=70,command=lambda:submit_file())\n",
    "submit.place(x=0,y=50)\n",
    "\n",
    "answer=Text(root,height=30,width=65,bg='gray77')\n",
    "answer.place(x=0,y=100)\n",
    "root.mainloop()"
   ]
  }
 ],
 "metadata": {
  "kernelspec": {
   "display_name": "Python 3",
   "language": "python",
   "name": "python3"
  },
  "language_info": {
   "codemirror_mode": {
    "name": "ipython",
    "version": 3
   },
   "file_extension": ".py",
   "mimetype": "text/x-python",
   "name": "python",
   "nbconvert_exporter": "python",
   "pygments_lexer": "ipython3",
   "version": "3.7.3"
  }
 },
 "nbformat": 4,
 "nbformat_minor": 2
}
