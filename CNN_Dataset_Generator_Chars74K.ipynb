{
 "cells": [
  {
   "cell_type": "code",
   "execution_count": 2,
   "metadata": {},
   "outputs": [
    {
     "name": "stderr",
     "output_type": "stream",
     "text": [
      "Using TensorFlow backend.\n"
     ]
    },
    {
     "name": "stdout",
     "output_type": "stream",
     "text": [
      "Found 5759 images belonging to 36 classes.\n",
      "Found 36 images belonging to 36 classes.\n"
     ]
    }
   ],
   "source": [
    "import os\n",
    "import numpy as np\n",
    "from keras.models import Sequential\n",
    "from keras.layers import Activation, Dropout, Flatten, Dense\n",
    "from keras.preprocessing.image import ImageDataGenerator\n",
    "from keras.layers import Conv2D, MaxPooling2D, ZeroPadding2D\n",
    "from keras import optimizers\n",
    "import scipy\n",
    "import pylab as pl\n",
    "import matplotlib.cm as cm\n",
    "%matplotlib inline\n",
    "\n",
    "input_shape = (150, 150, 3)\n",
    "img_width = 150\n",
    "img_height = 150\n",
    "\n",
    "nb_train_samples = 5759\n",
    "nb_validation_samples = 36\n",
    "batch_size = 16\n",
    "epochs = 50\n",
    "\n",
    "train_data_dir = 'C:/Users/JOY/Downloads/EnglishImg (1)/train'\n",
    "validation_data_dir = 'C:/Users/JOY/Downloads/EnglishImg (1)/test'\n",
    "\n",
    "# Creating our data generator for our test data\n",
    "validation_datagen = ImageDataGenerator(\n",
    "    # used to rescale the pixel values from [0, 255] to [0, 1] interval\n",
    "    rescale = 1./255)\n",
    "\n",
    "# Creating our data generator for our training data\n",
    "train_datagen = ImageDataGenerator(\n",
    "      rescale = 1./255,              # normalize pixel values to [0,1]\n",
    "      #rotation_range = 30,           # randomly applies rotations\n",
    "      #width_shift_range = 0.3,       # randomly applies width shifting\n",
    "      #height_shift_range = 0.3,      # randomly applies height shifting\n",
    "      horizontal_flip = False,        # randonly flips the image\n",
    "      fill_mode = 'nearest')         # uses the fill mode nearest to fill gaps created by the above\n",
    "\n",
    "# Specify criteria about our training data, such as the directory, image size, batch size and type \n",
    "# automagically retrieve images and their classes for train and validation sets\n",
    "train_generator = train_datagen.flow_from_directory(\n",
    "        train_data_dir,\n",
    "        target_size = (img_width, img_height),\n",
    "        batch_size = batch_size,\n",
    "        class_mode = 'categorical',\n",
    "        shuffle = True)\n",
    "\n",
    "validation_generator = validation_datagen.flow_from_directory(\n",
    "        validation_data_dir,\n",
    "        target_size = (img_width, img_height),\n",
    "        batch_size = batch_size,\n",
    "        class_mode = 'categorical',\n",
    "        shuffle = False)    "
   ]
  },
  {
   "cell_type": "code",
   "execution_count": 3,
   "metadata": {},
   "outputs": [
    {
     "name": "stdout",
     "output_type": "stream",
     "text": [
      "Model: \"sequential_1\"\n",
      "_________________________________________________________________\n",
      "Layer (type)                 Output Shape              Param #   \n",
      "=================================================================\n",
      "conv2d_1 (Conv2D)            (None, 148, 148, 32)      896       \n",
      "_________________________________________________________________\n",
      "activation_1 (Activation)    (None, 148, 148, 32)      0         \n",
      "_________________________________________________________________\n",
      "max_pooling2d_1 (MaxPooling2 (None, 74, 74, 32)        0         \n",
      "_________________________________________________________________\n",
      "conv2d_2 (Conv2D)            (None, 72, 72, 32)        9248      \n",
      "_________________________________________________________________\n",
      "activation_2 (Activation)    (None, 72, 72, 32)        0         \n",
      "_________________________________________________________________\n",
      "max_pooling2d_2 (MaxPooling2 (None, 36, 36, 32)        0         \n",
      "_________________________________________________________________\n",
      "conv2d_3 (Conv2D)            (None, 34, 34, 64)        18496     \n",
      "_________________________________________________________________\n",
      "activation_3 (Activation)    (None, 34, 34, 64)        0         \n",
      "_________________________________________________________________\n",
      "max_pooling2d_3 (MaxPooling2 (None, 17, 17, 64)        0         \n",
      "_________________________________________________________________\n",
      "flatten_1 (Flatten)          (None, 18496)             0         \n",
      "_________________________________________________________________\n",
      "dense_1 (Dense)              (None, 64)                1183808   \n",
      "_________________________________________________________________\n",
      "activation_4 (Activation)    (None, 64)                0         \n",
      "_________________________________________________________________\n",
      "dropout_1 (Dropout)          (None, 64)                0         \n",
      "_________________________________________________________________\n",
      "dense_2 (Dense)              (None, 36)                2340      \n",
      "=================================================================\n",
      "Total params: 1,214,788\n",
      "Trainable params: 1,214,788\n",
      "Non-trainable params: 0\n",
      "_________________________________________________________________\n",
      "None\n"
     ]
    }
   ],
   "source": [
    "from __future__ import print_function\n",
    "import keras\n",
    "from keras.preprocessing.image import ImageDataGenerator\n",
    "from keras.models import Sequential\n",
    "from keras.layers import Dense, Dropout, Activation, Flatten\n",
    "from keras.layers import Conv2D, MaxPooling2D\n",
    "from keras.optimizers import SGD \n",
    "import os\n",
    "\n",
    "batch_size = 16\n",
    "epochs = 50\n",
    "\n",
    "img_rows = 150\n",
    "img_cols = 150\n",
    "input_shape = (img_rows, img_cols, 3)\n",
    "\n",
    "model = Sequential()\n",
    "model.add(Conv2D(32, (3, 3), input_shape=input_shape))\n",
    "model.add(Activation('relu'))\n",
    "model.add(MaxPooling2D(pool_size=(2, 2)))\n",
    "\n",
    "model.add(Conv2D(32, (3, 3)))\n",
    "model.add(Activation('relu'))\n",
    "model.add(MaxPooling2D(pool_size=(2, 2)))\n",
    "\n",
    "model.add(Conv2D(64, (3, 3)))\n",
    "model.add(Activation('relu'))\n",
    "model.add(MaxPooling2D(pool_size=(2, 2)))\n",
    "\n",
    "model.add(Flatten())\n",
    "model.add(Dense(64))\n",
    "model.add(Activation('relu'))\n",
    "model.add(Dropout(0.5))\n",
    "model.add(Dense(36, activation='softmax'))\n",
    "#model.add(Activation('sigmoid'))\n",
    "\n",
    "model.compile(loss = 'categorical_crossentropy',\n",
    "              optimizer = SGD(0.01),\n",
    "              metrics = ['accuracy'])\n",
    "\n",
    "print(model.summary())"
   ]
  },
  {
   "cell_type": "code",
   "execution_count": 4,
   "metadata": {},
   "outputs": [
    {
     "name": "stdout",
     "output_type": "stream",
     "text": [
      "Epoch 1/50\n",
      "359/359 [==============================] - 55s 153ms/step - loss: 3.4417 - accuracy: 0.0688 - val_loss: 3.4917 - val_accuracy: 0.0625\n",
      "Epoch 2/50\n",
      "359/359 [==============================] - 56s 157ms/step - loss: 3.3566 - accuracy: 0.0827 - val_loss: 3.8925 - val_accuracy: 0.0500\n",
      "Epoch 3/50\n",
      "359/359 [==============================] - 58s 162ms/step - loss: 3.3208 - accuracy: 0.0850 - val_loss: 4.0408 - val_accuracy: 0.0000e+00\n",
      "Epoch 4/50\n",
      "359/359 [==============================] - 61s 169ms/step - loss: 3.3089 - accuracy: 0.0949 - val_loss: 3.4684 - val_accuracy: 0.0312\n",
      "Epoch 5/50\n",
      "359/359 [==============================] - 63s 176ms/step - loss: 3.2737 - accuracy: 0.1059 - val_loss: 3.9631 - val_accuracy: 0.0500\n",
      "Epoch 6/50\n",
      "359/359 [==============================] - 61s 171ms/step - loss: 3.1792 - accuracy: 0.1595 - val_loss: 4.1367 - val_accuracy: 0.1500\n",
      "Epoch 7/50\n",
      "359/359 [==============================] - 59s 164ms/step - loss: 2.7813 - accuracy: 0.2979 - val_loss: 2.5133 - val_accuracy: 0.3125\n",
      "Epoch 8/50\n",
      "359/359 [==============================] - 58s 162ms/step - loss: 2.1556 - accuracy: 0.4517 - val_loss: 2.9424 - val_accuracy: 0.1500\n",
      "Epoch 9/50\n",
      "359/359 [==============================] - 57s 160ms/step - loss: 1.7291 - accuracy: 0.5513 - val_loss: 2.5944 - val_accuracy: 0.6000\n",
      "Epoch 10/50\n",
      "359/359 [==============================] - 59s 165ms/step - loss: 1.4415 - accuracy: 0.6072 - val_loss: 1.4470 - val_accuracy: 0.5000\n",
      "Epoch 11/50\n",
      "359/359 [==============================] - 59s 164ms/step - loss: 1.2613 - accuracy: 0.6472 - val_loss: 2.2474 - val_accuracy: 0.3000\n",
      "Epoch 12/50\n",
      "359/359 [==============================] - 62s 173ms/step - loss: 1.1336 - accuracy: 0.6761 - val_loss: 2.6632 - val_accuracy: 0.6500\n",
      "Epoch 13/50\n",
      "359/359 [==============================] - 62s 173ms/step - loss: 1.0564 - accuracy: 0.6923 - val_loss: 1.4181 - val_accuracy: 0.5000\n",
      "Epoch 14/50\n",
      "359/359 [==============================] - 55s 153ms/step - loss: 0.9564 - accuracy: 0.7198 - val_loss: 2.0839 - val_accuracy: 0.3000\n",
      "Epoch 15/50\n",
      "359/359 [==============================] - 59s 163ms/step - loss: 0.8668 - accuracy: 0.7317 - val_loss: 2.7353 - val_accuracy: 0.5500\n",
      "Epoch 16/50\n",
      "359/359 [==============================] - 63s 176ms/step - loss: 0.8219 - accuracy: 0.7472 - val_loss: 0.9944 - val_accuracy: 0.5000\n",
      "Epoch 17/50\n",
      "359/359 [==============================] - 59s 164ms/step - loss: 0.7751 - accuracy: 0.7585 - val_loss: 1.9399 - val_accuracy: 0.4000\n",
      "Epoch 18/50\n",
      "359/359 [==============================] - 58s 162ms/step - loss: 0.7436 - accuracy: 0.7604 - val_loss: 3.5502 - val_accuracy: 0.8000\n",
      "Epoch 19/50\n",
      "359/359 [==============================] - 59s 165ms/step - loss: 0.6936 - accuracy: 0.7811 - val_loss: 0.8314 - val_accuracy: 0.6250\n",
      "Epoch 20/50\n",
      "359/359 [==============================] - 59s 164ms/step - loss: 0.6412 - accuracy: 0.7951 - val_loss: 1.6073 - val_accuracy: 0.4000\n",
      "Epoch 21/50\n",
      "359/359 [==============================] - 59s 165ms/step - loss: 0.6296 - accuracy: 0.8038 - val_loss: 2.7909 - val_accuracy: 0.6500\n",
      "Epoch 22/50\n",
      "359/359 [==============================] - 59s 165ms/step - loss: 0.5997 - accuracy: 0.8139 - val_loss: 0.6779 - val_accuracy: 0.6562\n",
      "Epoch 23/50\n",
      "359/359 [==============================] - 59s 165ms/step - loss: 0.5497 - accuracy: 0.8165 - val_loss: 1.8847 - val_accuracy: 0.3500\n",
      "Epoch 24/50\n",
      "359/359 [==============================] - 61s 171ms/step - loss: 0.5662 - accuracy: 0.8140 - val_loss: 3.5572 - val_accuracy: 0.7000\n",
      "Epoch 25/50\n",
      "359/359 [==============================] - 59s 165ms/step - loss: 0.5286 - accuracy: 0.8299 - val_loss: 0.8352 - val_accuracy: 0.6562\n",
      "Epoch 26/50\n",
      "359/359 [==============================] - 58s 162ms/step - loss: 0.5287 - accuracy: 0.8306 - val_loss: 1.5670 - val_accuracy: 0.5000\n",
      "Epoch 27/50\n",
      "359/359 [==============================] - 61s 170ms/step - loss: 0.4770 - accuracy: 0.8454 - val_loss: 4.1933 - val_accuracy: 0.7000\n",
      "Epoch 28/50\n",
      "359/359 [==============================] - 58s 161ms/step - loss: 0.4717 - accuracy: 0.8429 - val_loss: 0.8087 - val_accuracy: 0.6562\n",
      "Epoch 29/50\n",
      "359/359 [==============================] - 54s 150ms/step - loss: 0.4535 - accuracy: 0.8508 - val_loss: 1.4961 - val_accuracy: 0.4000\n",
      "Epoch 30/50\n",
      "359/359 [==============================] - 65s 181ms/step - loss: 0.4408 - accuracy: 0.8518 - val_loss: 3.1340 - val_accuracy: 0.6000\n",
      "Epoch 31/50\n",
      "359/359 [==============================] - 57s 158ms/step - loss: 0.4421 - accuracy: 0.8532 - val_loss: 0.5475 - val_accuracy: 0.6562\n",
      "Epoch 32/50\n",
      "359/359 [==============================] - 57s 159ms/step - loss: 0.4164 - accuracy: 0.8595 - val_loss: 1.7118 - val_accuracy: 0.3500\n",
      "Epoch 33/50\n",
      "359/359 [==============================] - 58s 163ms/step - loss: 0.3831 - accuracy: 0.8711 - val_loss: 2.1596 - val_accuracy: 0.8500\n",
      "Epoch 34/50\n",
      "359/359 [==============================] - 56s 156ms/step - loss: 0.4010 - accuracy: 0.8663 - val_loss: 0.3809 - val_accuracy: 0.7500\n",
      "Epoch 35/50\n",
      "359/359 [==============================] - 58s 162ms/step - loss: 0.3937 - accuracy: 0.8678 - val_loss: 1.8216 - val_accuracy: 0.6000\n",
      "Epoch 36/50\n",
      "359/359 [==============================] - 57s 159ms/step - loss: 0.3814 - accuracy: 0.8708 - val_loss: 2.7008 - val_accuracy: 0.8500\n",
      "Epoch 37/50\n",
      "359/359 [==============================] - 58s 162ms/step - loss: 0.3543 - accuracy: 0.8830 - val_loss: 0.4998 - val_accuracy: 0.7500\n",
      "Epoch 38/50\n",
      "359/359 [==============================] - 59s 165ms/step - loss: 0.3571 - accuracy: 0.8839 - val_loss: 1.5557 - val_accuracy: 0.5500\n",
      "Epoch 39/50\n",
      "359/359 [==============================] - 59s 163ms/step - loss: 0.3364 - accuracy: 0.8896 - val_loss: 3.4613 - val_accuracy: 0.7500\n",
      "Epoch 40/50\n",
      "359/359 [==============================] - 60s 168ms/step - loss: 0.3312 - accuracy: 0.8874 - val_loss: 0.3790 - val_accuracy: 0.7188\n",
      "Epoch 41/50\n",
      "359/359 [==============================] - 59s 164ms/step - loss: 0.3097 - accuracy: 0.8971 - val_loss: 1.6209 - val_accuracy: 0.6000\n",
      "Epoch 42/50\n",
      "359/359 [==============================] - 58s 163ms/step - loss: 0.3104 - accuracy: 0.8940 - val_loss: 5.2662 - val_accuracy: 0.8000\n",
      "Epoch 43/50\n",
      "359/359 [==============================] - 59s 164ms/step - loss: 0.3306 - accuracy: 0.8931 - val_loss: 0.3693 - val_accuracy: 0.7812\n",
      "Epoch 44/50\n",
      "359/359 [==============================] - 59s 164ms/step - loss: 0.3242 - accuracy: 0.8940 - val_loss: 1.7678 - val_accuracy: 0.5500\n",
      "Epoch 45/50\n",
      "359/359 [==============================] - 57s 158ms/step - loss: 0.2921 - accuracy: 0.8999 - val_loss: 4.8903 - val_accuracy: 0.8000\n",
      "Epoch 46/50\n",
      "359/359 [==============================] - 69s 193ms/step - loss: 0.3087 - accuracy: 0.8948 - val_loss: 0.7060 - val_accuracy: 0.7188\n",
      "Epoch 47/50\n",
      "359/359 [==============================] - 70s 194ms/step - loss: 0.2954 - accuracy: 0.8981 - val_loss: 1.2522 - val_accuracy: 0.5500\n",
      "Epoch 48/50\n",
      "359/359 [==============================] - 63s 176ms/step - loss: 0.2907 - accuracy: 0.9042 - val_loss: 3.6072 - val_accuracy: 0.9000\n",
      "Epoch 49/50\n",
      "359/359 [==============================] - 66s 183ms/step - loss: 0.2832 - accuracy: 0.9027 - val_loss: 0.3892 - val_accuracy: 0.7500\n",
      "Epoch 50/50\n",
      "359/359 [==============================] - 64s 178ms/step - loss: 0.2671 - accuracy: 0.9115 - val_loss: 1.4828 - val_accuracy: 0.5500\n"
     ]
    }
   ],
   "source": [
    "history = model.fit_generator(\n",
    "    train_generator,\n",
    "    steps_per_epoch = nb_train_samples // batch_size,\n",
    "    epochs = epochs,\n",
    "    validation_data = validation_generator,\n",
    "    validation_steps = nb_validation_samples // batch_size)"
   ]
  },
  {
   "cell_type": "code",
   "execution_count": 1,
   "metadata": {},
   "outputs": [],
   "source": [
    "from string import ascii_uppercase\n",
    "dict=[]\n",
    "for i in range(0,10):\n",
    "    dict.append(str(i))\n",
    "for c in ascii_uppercase:\n",
    "    dict.append(str(c))"
   ]
  },
  {
   "cell_type": "code",
   "execution_count": 6,
   "metadata": {},
   "outputs": [],
   "source": [
    "model.save(\"C:/Users/JOY/DeepLearningCV/10. Data Augmentation/ocr_augmentedv2_91%.h5\")"
   ]
  },
  {
   "cell_type": "code",
   "execution_count": 2,
   "metadata": {},
   "outputs": [
    {
     "name": "stderr",
     "output_type": "stream",
     "text": [
      "Using TensorFlow backend.\n"
     ]
    },
    {
     "name": "stdout",
     "output_type": "stream",
     "text": [
      "1\n"
     ]
    }
   ],
   "source": [
    "import cv2\n",
    "import numpy as np\n",
    "from keras.models import load_model\n",
    "\n",
    "classifier = load_model('C:/Users/JOY/DeepLearningCV/10. Data Augmentation/ocr_augmentedv2_91%.h5')\n",
    "\n",
    "def draw_test(name, pred, input_im):\n",
    "    BLACK = [0,0,0]\n",
    "    pred1=dict[pred]\n",
    "    #expanded_image = cv2.copyMakeBorder(input_im, 0, 0, 0, imageL.shape[0] ,cv2.BORDER_CONSTANT,value=BLACK)\n",
    "    #expanded_image = cv2.cvtColor(expanded_image, cv2.COLOR_GRAY2BGR)\n",
    "    #cv2.putText(expanded_image, str(pred), (252, 70) , cv2.FONT_HERSHEY_COMPLEX_SMALL,4, (0,255,0), 2)\n",
    "    #cv2.imshow(name, expanded_image)\n",
    "    print(pred)\n",
    "\n",
    "input_im = cv2.imread('C:/Users/JOY/Downloads/EnglishImg (1)/test/Sample002/img002-00079.png')\n",
    "\n",
    "imageL = cv2.resize(input_im, None, fx=2, fy=2, interpolation = cv2.INTER_CUBIC)\n",
    "cv2.imshow(\"Test Image\", imageL)\n",
    "\n",
    "\n",
    "input_im=cv2.resize(input_im,(150,150),interpolation = cv2.INTER_AREA)\n",
    "input_im = input_im.reshape(1,150,150,3)\n",
    "input_im = input_im.astype('float32')\n",
    "input_im/=255\n",
    " \n",
    "    ## Get Prediction\n",
    "res = classifier.predict_classes(input_im, 1, verbose = 0)[0]\n",
    "print(dict[res])\n",
    "    #draw_test(\"Prediction\", res, imageL) \n",
    "cv2.waitKey(0)\n",
    "\n",
    "cv2.destroyAllWindows()"
   ]
  },
  {
   "cell_type": "code",
   "execution_count": 8,
   "metadata": {},
   "outputs": [
    {
     "data": {
      "image/png": "[encoded data removed]",
      "text/plain": [
       "<Figure size 432x288 with 1 Axes>"
      ]
     },
     "metadata": {
      "needs_background": "light"
     },
     "output_type": "display_data"
    }
   ],
   "source": [
    "# Plotting our loss charts\n",
    "import matplotlib.pyplot as plt\n",
    "\n",
    "history_dict = history.history\n",
    "\n",
    "loss_values = history_dict['loss']\n",
    "val_loss_values = history_dict['val_loss']\n",
    "epochs = range(1, len(loss_values) + 1)\n",
    "\n",
    "line1 = plt.plot(epochs, val_loss_values, label='Validation/Test Loss')\n",
    "line2 = plt.plot(epochs, loss_values, label='Training Loss')\n",
    "plt.setp(line1, linewidth=2.0, marker = '+', markersize=10.0)\n",
    "plt.setp(line2, linewidth=2.0, marker = '4', markersize=10.0)\n",
    "plt.xlabel('Epochs') \n",
    "plt.ylabel('Loss')\n",
    "plt.grid(True)\n",
    "plt.legend()\n",
    "plt.show()"
   ]
  },
  {
   "cell_type": "code",
   "execution_count": 3,
   "metadata": {},
   "outputs": [
    {
     "ename": "NameError",
     "evalue": "name 'history' is not defined",
     "output_type": "error",
     "traceback": [
      "\u001b[1;31m---------------------------------------------------------------------------\u001b[0m",
      "\u001b[1;31mNameError\u001b[0m                                 Traceback (most recent call last)",
      "\u001b[1;32m<ipython-input-3-d3a5b1ee37b2>\u001b[0m in \u001b[0;36m<module>\u001b[1;34m\u001b[0m\n\u001b[0;32m      2\u001b[0m \u001b[1;32mimport\u001b[0m \u001b[0mmatplotlib\u001b[0m\u001b[1;33m.\u001b[0m\u001b[0mpyplot\u001b[0m \u001b[1;32mas\u001b[0m \u001b[0mplt\u001b[0m\u001b[1;33m\u001b[0m\u001b[1;33m\u001b[0m\u001b[0m\n\u001b[0;32m      3\u001b[0m \u001b[1;33m\u001b[0m\u001b[0m\n\u001b[1;32m----> 4\u001b[1;33m \u001b[0mhistory_dict\u001b[0m \u001b[1;33m=\u001b[0m \u001b[0mhistory\u001b[0m\u001b[1;33m.\u001b[0m\u001b[0mhistory\u001b[0m\u001b[1;33m\u001b[0m\u001b[1;33m\u001b[0m\u001b[0m\n\u001b[0m\u001b[0;32m      5\u001b[0m \u001b[1;33m\u001b[0m\u001b[0m\n\u001b[0;32m      6\u001b[0m \u001b[0macc_values\u001b[0m \u001b[1;33m=\u001b[0m \u001b[0mhistory_dict\u001b[0m\u001b[1;33m[\u001b[0m\u001b[1;34m'accuracy'\u001b[0m\u001b[1;33m]\u001b[0m\u001b[1;33m\u001b[0m\u001b[1;33m\u001b[0m\u001b[0m\n",
      "\u001b[1;31mNameError\u001b[0m: name 'history' is not defined"
     ]
    }
   ],
   "source": [
    "# Plotting our accuracy charts\n",
    "import matplotlib.pyplot as plt\n",
    "\n",
    "history_dict = history.history\n",
    "\n",
    "acc_values = history_dict['accuracy']\n",
    "val_acc_values = history_dict['val_accuracy']\n",
    "epochs = range(1, len(loss_values) + 1)\n",
    "\n",
    "line1 = plt.plot(epochs, val_acc_values, label='Validation/Test Accuracy')\n",
    "line2 = plt.plot(epochs, acc_values, label='Training Accuracy')\n",
    "plt.setp(line1, linewidth=2.0, marker = '+', markersize=10.0)\n",
    "plt.setp(line2, linewidth=2.0, marker = '4', markersize=10.0)\n",
    "plt.xlabel('Epochs') \n",
    "plt.ylabel('Accuracy')\n",
    "plt.grid(True)\n",
    "plt.legend()\n",
    "plt.show()"
   ]
  },
  {
   "cell_type": "code",
   "execution_count": 2,
   "metadata": {},
   "outputs": [
    {
     "ename": "NameError",
     "evalue": "name 'model' is not defined",
     "output_type": "error",
     "traceback": [
      "\u001b[1;31m---------------------------------------------------------------------------\u001b[0m",
      "\u001b[1;31mNameError\u001b[0m                                 Traceback (most recent call last)",
      "\u001b[1;32m<ipython-input-2-ef277bff74b4>\u001b[0m in \u001b[0;36m<module>\u001b[1;34m\u001b[0m\n\u001b[0;32m      6\u001b[0m \u001b[1;33m\u001b[0m\u001b[0m\n\u001b[0;32m      7\u001b[0m \u001b[1;31m# Generate the plot\u001b[0m\u001b[1;33m\u001b[0m\u001b[1;33m\u001b[0m\u001b[1;33m\u001b[0m\u001b[0m\n\u001b[1;32m----> 8\u001b[1;33m plot_model(model, to_file = model_diagrams_path + 'model_plot.png',\n\u001b[0m\u001b[0;32m      9\u001b[0m            \u001b[0mshow_shapes\u001b[0m \u001b[1;33m=\u001b[0m \u001b[1;32mTrue\u001b[0m\u001b[1;33m,\u001b[0m\u001b[1;33m\u001b[0m\u001b[1;33m\u001b[0m\u001b[0m\n\u001b[0;32m     10\u001b[0m            show_layer_names = True)\n",
      "\u001b[1;31mNameError\u001b[0m: name 'model' is not defined"
     ]
    }
   ],
   "source": [
    "# Save our model diagrams to this path\n",
    "from keras.utils.vis_utils import plot_model\n",
    "model_diagrams_path = 'G:/Projects/Minor/Codes/Trained Models/'\n",
    "\n",
    "# Generate the plot\n",
    "plot_model(model, to_file = model_diagrams_path + 'model_plot.png',\n",
    "           show_shapes = True,\n",
    "           show_layer_names = True)\n",
    "\n",
    "# Show the plot here\n",
    "path=model_diagrams_path + 'model_plot.png'\n",
    "print(path)\n",
    "img = cv2.imread(path)\n",
    "cv2.imshow(\"Model Plot\",img)"
   ]
  }
 ],
 "metadata": {
  "kernelspec": {
   "display_name": "Python 3",
   "language": "python",
   "name": "python3"
  },
  "language_info": {
   "codemirror_mode": {
    "name": "ipython",
    "version": 3
   },
   "file_extension": ".py",
   "mimetype": "text/x-python",
   "name": "python",
   "nbconvert_exporter": "python",
   "pygments_lexer": "ipython3",
   "version": "3.7.3"
  }
 },
 "nbformat": 4,
 "nbformat_minor": 2
}
