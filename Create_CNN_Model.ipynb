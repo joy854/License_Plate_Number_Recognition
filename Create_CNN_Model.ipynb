{
 "cells": [
  {
   "cell_type": "code",
   "execution_count": 11,
   "metadata": {},
   "outputs": [
    {
     "name": "stdout",
     "output_type": "stream",
     "text": [
      "Found 29232 images belonging to 36 classes.\n",
      "Found 7344 images belonging to 36 classes.\n"
     ]
    }
   ],
   "source": [
    "import os\n",
    "import numpy as np\n",
    "from keras.models import Sequential\n",
    "from keras.layers import Activation, Dropout, Flatten, Dense\n",
    "from keras.preprocessing.image import ImageDataGenerator\n",
    "from keras.layers import Conv2D, MaxPooling2D, ZeroPadding2D\n",
    "from keras import optimizers\n",
    "import scipy\n",
    "import pylab as pl\n",
    "import matplotlib.cm as cm\n",
    "%matplotlib inline\n",
    "\n",
    "input_shape = (150, 150, 3)\n",
    "img_width = 150\n",
    "img_height = 150\n",
    "\n",
    "nb_train_samples = 29232\n",
    "nb_validation_samples = 7344\n",
    "batch_size = 16\n",
    "epochs = 50\n",
    "\n",
    "train_data_dir = 'dataset/train'\n",
    "validation_data_dir = 'dataset/val'\n",
    "\n",
    "# Creating our data generator for our test data\n",
    "validation_datagen = ImageDataGenerator(\n",
    "    # used to rescale the pixel values from [0, 255] to [0, 1] interval\n",
    "    rescale = 1./255)\n",
    "\n",
    "# Creating our data generator for our training data\n",
    "train_datagen = ImageDataGenerator(\n",
    "      rescale = 1./255,              # normalize pixel values to [0,1]\n",
    "      #rotation_range = 30,           # randomly applies rotations\n",
    "      #width_shift_range = 0.3,       # randomly applies width shifting\n",
    "      #height_shift_range = 0.3,      # randomly applies height shifting\n",
    "      horizontal_flip = False,        # randonly flips the image\n",
    "      fill_mode = 'nearest')         # uses the fill mode nearest to fill gaps created by the above\n",
    "\n",
    "# Specify criteria about our training data, such as the directory, image size, batch size and type \n",
    "# automagically retrieve images and their classes for train and validation sets\n",
    "train_generator = train_datagen.flow_from_directory(\n",
    "        train_data_dir,\n",
    "        target_size = (img_width, img_height),\n",
    "        batch_size = batch_size,\n",
    "        class_mode = 'categorical',\n",
    "        shuffle = True)\n",
    "\n",
    "validation_generator = validation_datagen.flow_from_directory(\n",
    "        validation_data_dir,\n",
    "        target_size = (img_width, img_height),\n",
    "        batch_size = batch_size,\n",
    "        class_mode = 'categorical',\n",
    "        shuffle = False)    "
   ]
  },
  {
   "cell_type": "code",
   "execution_count": 12,
   "metadata": {},
   "outputs": [
    {
     "name": "stdout",
     "output_type": "stream",
     "text": [
      "Model: \"sequential_3\"\n",
      "_________________________________________________________________\n",
      "Layer (type)                 Output Shape              Param #   \n",
      "=================================================================\n",
      "conv2d_7 (Conv2D)            (None, 148, 148, 32)      896       \n",
      "_________________________________________________________________\n",
      "activation_9 (Activation)    (None, 148, 148, 32)      0         \n",
      "_________________________________________________________________\n",
      "max_pooling2d_7 (MaxPooling2 (None, 74, 74, 32)        0         \n",
      "_________________________________________________________________\n",
      "conv2d_8 (Conv2D)            (None, 72, 72, 32)        9248      \n",
      "_________________________________________________________________\n",
      "activation_10 (Activation)   (None, 72, 72, 32)        0         \n",
      "_________________________________________________________________\n",
      "max_pooling2d_8 (MaxPooling2 (None, 36, 36, 32)        0         \n",
      "_________________________________________________________________\n",
      "conv2d_9 (Conv2D)            (None, 34, 34, 64)        18496     \n",
      "_________________________________________________________________\n",
      "activation_11 (Activation)   (None, 34, 34, 64)        0         \n",
      "_________________________________________________________________\n",
      "max_pooling2d_9 (MaxPooling2 (None, 17, 17, 64)        0         \n",
      "_________________________________________________________________\n",
      "flatten_3 (Flatten)          (None, 18496)             0         \n",
      "_________________________________________________________________\n",
      "dense_5 (Dense)              (None, 64)                1183808   \n",
      "_________________________________________________________________\n",
      "activation_12 (Activation)   (None, 64)                0         \n",
      "_________________________________________________________________\n",
      "dropout_3 (Dropout)          (None, 64)                0         \n",
      "_________________________________________________________________\n",
      "dense_6 (Dense)              (None, 36)                2340      \n",
      "=================================================================\n",
      "Total params: 1,214,788\n",
      "Trainable params: 1,214,788\n",
      "Non-trainable params: 0\n",
      "_________________________________________________________________\n",
      "None\n"
     ]
    }
   ],
   "source": [
    "from __future__ import print_function\n",
    "import keras\n",
    "from keras.preprocessing.image import ImageDataGenerator\n",
    "from keras.models import Sequential\n",
    "from keras.layers import Dense, Dropout, Activation, Flatten\n",
    "from keras.layers import Conv2D, MaxPooling2D\n",
    "from keras.optimizers import SGD \n",
    "import os\n",
    "\n",
    "batch_size = 16\n",
    "epochs = 20\n",
    "\n",
    "img_rows = 150\n",
    "img_cols = 150\n",
    "input_shape = (img_rows, img_cols, 3)\n",
    "\n",
    "model = Sequential()\n",
    "model.add(Conv2D(32, (3, 3), input_shape=input_shape))\n",
    "model.add(Activation('relu'))\n",
    "model.add(MaxPooling2D(pool_size=(2, 2)))\n",
    "\n",
    "model.add(Conv2D(32, (3, 3)))\n",
    "model.add(Activation('relu'))\n",
    "model.add(MaxPooling2D(pool_size=(2, 2)))\n",
    "\n",
    "model.add(Conv2D(64, (3, 3)))\n",
    "model.add(Activation('relu'))\n",
    "model.add(MaxPooling2D(pool_size=(2, 2)))\n",
    "\n",
    "model.add(Flatten())\n",
    "model.add(Dense(64))\n",
    "model.add(Activation('relu'))\n",
    "model.add(Dropout(0.5))\n",
    "model.add(Dense(36, activation='softmax'))\n",
    "#model.add(Activation('sigmoid'))\n",
    "\n",
    "model.compile(loss = 'categorical_crossentropy',\n",
    "              optimizer = SGD(0.01),\n",
    "              metrics = ['accuracy'])\n",
    "\n",
    "print(model.summary())"
   ]
  },
  {
   "cell_type": "code",
   "execution_count": 13,
   "metadata": {},
   "outputs": [
    {
     "name": "stdout",
     "output_type": "stream",
     "text": [
      "Epoch 1/20\n",
      "1827/1827 [==============================] - 326s 178ms/step - loss: 1.7286 - accuracy: 0.5341 - val_loss: 0.9056 - val_accuracy: 0.8877\n",
      "Epoch 2/20\n",
      "1827/1827 [==============================] - 339s 186ms/step - loss: 0.6603 - accuracy: 0.8149 - val_loss: 1.1167 - val_accuracy: 0.9222\n",
      "Epoch 3/20\n",
      "1827/1827 [==============================] - 348s 191ms/step - loss: 0.4909 - accuracy: 0.8557 - val_loss: 0.8651 - val_accuracy: 0.9385\n",
      "Epoch 4/20\n",
      "1827/1827 [==============================] - 342s 187ms/step - loss: 0.4039 - accuracy: 0.8776 - val_loss: 0.7207 - val_accuracy: 0.9514\n",
      "Epoch 5/20\n",
      "1827/1827 [==============================] - 357s 195ms/step - loss: 0.3411 - accuracy: 0.8935 - val_loss: 0.6893 - val_accuracy: 0.9528\n",
      "Epoch 6/20\n",
      "1827/1827 [==============================] - 351s 192ms/step - loss: 0.2992 - accuracy: 0.9049 - val_loss: 0.5240 - val_accuracy: 0.9586\n",
      "Epoch 7/20\n",
      "1827/1827 [==============================] - 342s 187ms/step - loss: 0.2716 - accuracy: 0.9104 - val_loss: 0.6027 - val_accuracy: 0.9594\n",
      "Epoch 8/20\n",
      "1827/1827 [==============================] - 382s 209ms/step - loss: 0.2431 - accuracy: 0.9178 - val_loss: 0.3201 - val_accuracy: 0.9651\n",
      "Epoch 9/20\n",
      "1827/1827 [==============================] - 405s 221ms/step - loss: 0.2266 - accuracy: 0.9228 - val_loss: 0.2805 - val_accuracy: 0.9651\n",
      "Epoch 10/20\n",
      "1827/1827 [==============================] - 413s 226ms/step - loss: 0.2088 - accuracy: 0.9298 - val_loss: 0.1931 - val_accuracy: 0.9683\n",
      "Epoch 11/20\n",
      "1827/1827 [==============================] - 417s 228ms/step - loss: 0.1857 - accuracy: 0.9359 - val_loss: 0.1864 - val_accuracy: 0.9668\n",
      "Epoch 12/20\n",
      "1827/1827 [==============================] - 405s 222ms/step - loss: 0.1813 - accuracy: 0.9366 - val_loss: 0.1325 - val_accuracy: 0.9632\n",
      "Epoch 13/20\n",
      "1827/1827 [==============================] - 360s 197ms/step - loss: 0.1649 - accuracy: 0.9411 - val_loss: 0.2781 - val_accuracy: 0.9756\n",
      "Epoch 14/20\n",
      "1827/1827 [==============================] - 318s 174ms/step - loss: 0.1540 - accuracy: 0.9452 - val_loss: 0.1113 - val_accuracy: 0.9758\n",
      "Epoch 15/20\n",
      "1827/1827 [==============================] - 310s 170ms/step - loss: 0.1514 - accuracy: 0.9465 - val_loss: 0.2266 - val_accuracy: 0.9767\n",
      "Epoch 16/20\n",
      "1827/1827 [==============================] - 297s 163ms/step - loss: 0.1426 - accuracy: 0.9494 - val_loss: 0.1700 - val_accuracy: 0.9755\n",
      "Epoch 17/20\n",
      "1827/1827 [==============================] - 298s 163ms/step - loss: 0.1361 - accuracy: 0.9515 - val_loss: 0.1675 - val_accuracy: 0.9770\n",
      "Epoch 18/20\n",
      "1827/1827 [==============================] - 309s 169ms/step - loss: 0.1327 - accuracy: 0.9519 - val_loss: 0.0773 - val_accuracy: 0.9762\n",
      "Epoch 19/20\n",
      "1827/1827 [==============================] - 326s 179ms/step - loss: 0.1223 - accuracy: 0.9555 - val_loss: 0.0923 - val_accuracy: 0.9778\n",
      "Epoch 20/20\n",
      "1827/1827 [==============================] - 337s 184ms/step - loss: 0.1198 - accuracy: 0.9564 - val_loss: 0.0615 - val_accuracy: 0.9786\n"
     ]
    }
   ],
   "source": [
    "history = model.fit_generator(\n",
    "    train_generator,\n",
    "    steps_per_epoch = nb_train_samples // batch_size,\n",
    "    epochs = epochs,\n",
    "    validation_data = validation_generator,\n",
    "    validation_steps = nb_validation_samples // batch_size)"
   ]
  },
  {
   "cell_type": "code",
   "execution_count": 14,
   "metadata": {},
   "outputs": [],
   "source": [
    "from string import ascii_uppercase\n",
    "dict=[]\n",
    "for i in range(0,10):\n",
    "    dict.append(str(i))\n",
    "for c in ascii_uppercase:\n",
    "    dict.append(str(c))"
   ]
  },
  {
   "cell_type": "code",
   "execution_count": 15,
   "metadata": {},
   "outputs": [],
   "source": [
    "model.save(\"Trained_Models/ocr_augmented150v3_96%.h5\")"
   ]
  },
  {
   "cell_type": "code",
   "execution_count": 7,
   "metadata": {},
   "outputs": [
    {
     "name": "stdout",
     "output_type": "stream",
     "text": [
      "1\n"
     ]
    }
   ],
   "source": [
    "import cv2\n",
    "import numpy as np\n",
    "from keras.models import load_model\n",
    "\n",
    "classifier = load_model('Trained_Models/ocr_augmented150v3_96%.h5')\n",
    "\n",
    "def draw_test(name, pred, input_im):\n",
    "    BLACK = [0,0,0]\n",
    "    pred1=dict[pred]\n",
    "    #expanded_image = cv2.copyMakeBorder(input_im, 0, 0, 0, imageL.shape[0] ,cv2.BORDER_CONSTANT,value=BLACK)\n",
    "    #expanded_image = cv2.cvtColor(expanded_image, cv2.COLOR_GRAY2BGR)\n",
    "    #cv2.putText(expanded_image, str(pred), (252, 70) , cv2.FONT_HERSHEY_COMPLEX_SMALL,4, (0,255,0), 2)\n",
    "    #cv2.imshow(name, expanded_image)\n",
    "    print(pred)\n",
    "\n",
    "input_im = cv2.imread('C:/Users/JOY/Downloads/EnglishImg (1)/test/Sample002/img002-00079.png')\n",
    "\n",
    "imageL = cv2.resize(input_im, None, fx=2, fy=2, interpolation = cv2.INTER_CUBIC)\n",
    "cv2.imshow(\"Test Image\", imageL)\n",
    "\n",
    "\n",
    "input_im=cv2.resize(input_im,(100,100),interpolation = cv2.INTER_AREA)\n",
    "input_im = input_im.reshape(1,100,100,3)\n",
    "input_im = input_im.astype('float32')\n",
    "input_im/=255\n",
    " \n",
    "    ## Get Prediction\n",
    "res = classifier.predict_classes(input_im, 1, verbose = 0)[0]\n",
    "print(dict[res])\n",
    "    #draw_test(\"Prediction\", res, imageL) \n",
    "cv2.waitKey(0)\n",
    "\n",
    "cv2.destroyAllWindows()"
   ]
  },
  {
   "cell_type": "code",
   "execution_count": 22,
   "metadata": {},
   "outputs": [
    {
     "data": {
      "image/png": "[encoded data removed]",
      "text/plain": [
       "<Figure size 432x288 with 1 Axes>"
      ]
     },
     "metadata": {
      "needs_background": "light"
     },
     "output_type": "display_data"
    }
   ],
   "source": [
    "# Plotting our loss charts\n",
    "import matplotlib.pyplot as plt\n",
    "\n",
    "history_dict = history.history\n",
    "\n",
    "loss_values = history_dict['loss']\n",
    "val_loss_values = history_dict['val_loss']\n",
    "epochs = range(1, len(loss_values) + 1)\n",
    "\n",
    "line1 = plt.plot(epochs, val_loss_values, label='Validation/Test Loss')\n",
    "line2 = plt.plot(epochs, loss_values, label='Training Loss')\n",
    "plt.setp(line1, linewidth=2.0, marker = '+', markersize=10.0)\n",
    "plt.setp(line2, linewidth=2.0, marker = '4', markersize=10.0)\n",
    "plt.xlabel('Epochs') \n",
    "plt.ylabel('Loss')\n",
    "plt.grid(True)\n",
    "plt.legend()\n",
    "plt.show()"
   ]
  },
  {
   "cell_type": "code",
   "execution_count": 23,
   "metadata": {},
   "outputs": [
    {
     "data": {
      "image/png": "[encoded data removed]",
      "text/plain": [
       "<Figure size 432x288 with 1 Axes>"
      ]
     },
     "metadata": {
      "needs_background": "light"
     },
     "output_type": "display_data"
    }
   ],
   "source": [
    "# Plotting our accuracy charts\n",
    "import matplotlib.pyplot as plt\n",
    "\n",
    "history_dict = history.history\n",
    "\n",
    "acc_values = history_dict['accuracy']\n",
    "val_acc_values = history_dict['val_accuracy']\n",
    "epochs = range(1, len(loss_values) + 1)\n",
    "\n",
    "line1 = plt.plot(epochs, val_acc_values, label='Validation/Test Accuracy')\n",
    "line2 = plt.plot(epochs, acc_values, label='Training Accuracy')\n",
    "plt.setp(line1, linewidth=2.0, marker = '+', markersize=10.0)\n",
    "plt.setp(line2, linewidth=2.0, marker = '4', markersize=10.0)\n",
    "plt.xlabel('Epochs') \n",
    "plt.ylabel('Accuracy')\n",
    "plt.grid(True)\n",
    "plt.legend()\n",
    "plt.show()"
   ]
  },
  {
   "cell_type": "code",
   "execution_count": 25,
   "metadata": {},
   "outputs": [
    {
     "name": "stdout",
     "output_type": "stream",
     "text": [
      "G:/Projects/Minor/Codes/Trained_Models/model_plot.png\n"
     ]
    }
   ],
   "source": [
    "# Save our model diagrams to this path\n",
    "from keras.utils.vis_utils import plot_model\n",
    "model_diagrams_path = 'G:/Projects/Minor/Codes/Trained_Models/'\n",
    "\n",
    "# Generate the plot\n",
    "plot_model(model, to_file = model_diagrams_path + 'model_plot.png',\n",
    "           show_shapes = True,\n",
    "           show_layer_names = True)\n",
    "\n",
    "# Show the plot here\n",
    "path=model_diagrams_path + 'model_plot.png'\n",
    "print(path)\n",
    "img = cv2.imread(path)\n",
    "cv2.imshow(\"Model Plot\",img)"
   ]
  }
 ],
 "metadata": {
  "kernelspec": {
   "display_name": "Python 3",
   "language": "python",
   "name": "python3"
  },
  "language_info": {
   "codemirror_mode": {
    "name": "ipython",
    "version": 3
   },
   "file_extension": ".py",
   "mimetype": "text/x-python",
   "name": "python",
   "nbconvert_exporter": "python",
   "pygments_lexer": "ipython3",
   "version": "3.7.3"
  }
 },
 "nbformat": 4,
 "nbformat_minor": 2
}
